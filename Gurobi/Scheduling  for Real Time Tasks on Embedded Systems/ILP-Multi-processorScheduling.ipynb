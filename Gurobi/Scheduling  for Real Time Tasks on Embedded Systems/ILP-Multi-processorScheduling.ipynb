{
 "cells": [
  {
   "cell_type": "code",
   "execution_count": 1,
   "metadata": {},
   "outputs": [],
   "source": [
    "import gurobipy as gp\n",
    "from gurobipy import Model, GRB"
   ]
  },
  {
   "cell_type": "markdown",
   "metadata": {},
   "source": [
    "#### Given:\n",
    "### Tasks:\n",
    "# T1 = (2,1)\n",
    "# T2 = (3,1)\n",
    "# T3 = (4,1)\n",
    "# T4 = (5,1)\n",
    "# T5 = (6,1)\n",
    "# T6 = (10,1)\n",
    "# T7 = (15,1)\n",
    "# T8 = (25,1)\n",
    "\n",
    "### Communication Costs:\n",
    "# T1 - T3: 10\n",
    "# T1 - T2: 7\n",
    "# T2 - T4: 9\n",
    "# T3 - T4: 13\n",
    "# T3 - T5: 15\n",
    "# T4 - T5: 8\n",
    "# T5 - T6: 25\n",
    "# T5 - T7: 2\n",
    "# T7 - T8: 10\n",
    "\n",
    "### Maximum Utilization:\n",
    "# U_max = 1\n",
    "\n",
    "### Number of modules:\n",
    "# m = 2"
   ]
  },
  {
   "cell_type": "code",
   "execution_count": 2,
   "metadata": {},
   "outputs": [],
   "source": [
    "### Maximum Utilization:\n",
    "U_max = 1\n",
    "\n",
    "### Number of modules:\n",
    "num_modules = 2"
   ]
  },
  {
   "cell_type": "code",
   "execution_count": 3,
   "metadata": {},
   "outputs": [],
   "source": [
    "# Given:\n",
    "task_set = {\n",
    "    \"A\": (100,1),\n",
    "    \"B\": (100,1),\n",
    "    \"C\": (100,1),\n",
    "    \"D\": (100,1),\n",
    "    \"E\": (100,1),\n",
    "    \"F\": (100,1),\n",
    "    \"G\": (100,1),\n",
    "    \"H\": (100,1),\n",
    "    \"I\": (100,1),\n",
    "   \"J\": (100,1)\n",
    "}\n",
    "\n",
    "task_index = dict()\n",
    "index = 0\n",
    "for task in task_set:\n",
    "    task_index[task] = index\n",
    "    index += 1\n",
    "\n",
    "tasks = []\n",
    "for task in task_set:\n",
    "    tasks.append(task)\n",
    "\n",
    "\n",
    "modules = []\n",
    "for i in range(1 , num_modules + 1):\n",
    "    modules.append(f\"m{i}\")\n",
    "\n",
    "\n",
    "task_utilization = dict()\n",
    "for task in tasks:\n",
    "    task_utilization[task] = task_set[task][1] / float(task_set[task][0])\n",
    "\n",
    "\n",
    "#### Communication & Interference Cost\n",
    "### Communication Costs\n",
    "task_communication = [[0 for _ in range( len(tasks) )] for _ in range( len(tasks) )]\n",
    "\n",
    "# Define communication costs\n",
    "communication_costs = {\n",
    "    (0,1): 3, # Task 1 - Task 2\n",
    "    (0,3): 2,\n",
    "    (0,7): 7,\n",
    "    (0,8): 1,\n",
    "    (1,2): 1,\n",
    "    (2,3): 1,\n",
    "    (3,4): 6,\n",
    "    (4,5): 15,\n",
    "    (5,6): 2,\n",
    "    (5,7): 10,\n",
    "    (7,8): 2\n",
    "}\n",
    "\n",
    "# Update the array with the communication costs\n",
    "for (i, j), cost in communication_costs.items():\n",
    "    task_communication[i][j] = cost\n",
    "\n",
    "### Interference Costs\n",
    "task_interference = [[0 for _ in range( len(tasks) )] for _ in range( len(tasks) )]\n",
    "\n",
    "# Define Interference costs\n",
    "Interference_costs = {\n",
    "    (0,2): 3, # Task 1 - Task 3\n",
    "    (0, 5): 100000, # Inf \n",
    "    (3, 5): 1,\n",
    "    (4, 6): 4,\n",
    "    (6, 7): 2\n",
    "}\n",
    "\n",
    "# Update the array with the Interference costs\n",
    "for (i, j), cost in Interference_costs.items():\n",
    "    task_interference[i][j] = cost"
   ]
  },
  {
   "cell_type": "code",
   "execution_count": 4,
   "metadata": {},
   "outputs": [
    {
     "name": "stdout",
     "output_type": "stream",
     "text": [
      "Set parameter Username\n",
      "Set parameter LicenseID to value 2606738\n",
      "Academic license - for non-commercial use only - expires 2026-01-06\n"
     ]
    }
   ],
   "source": [
    "# Create Gurobi model\n",
    "m = Model()"
   ]
  },
  {
   "cell_type": "code",
   "execution_count": 5,
   "metadata": {},
   "outputs": [],
   "source": [
    "### Variables: Binary Variable for each task for each module: x = 1 -> Task assigned to processor\n",
    "x = m.addVars(tasks, modules, vtype=GRB.BINARY, name=\"x\")"
   ]
  },
  {
   "cell_type": "code",
   "execution_count": 6,
   "metadata": {},
   "outputs": [],
   "source": [
    "### Constraints:\n",
    "\n",
    "## Constraint 1: Each task is assigned to one module\n",
    "for task in tasks:\n",
    "    m.addConstr( sum(x[task,module] for module in modules) == 1, name=f\"assign_{task}\")\n",
    "\n",
    "## Constraint 2: For each module, sum of utilization of all tasks assigned to it is <= maximum allowable utilization\n",
    "for module in modules:\n",
    "    m.addConstr( sum( x[task,module]*task_utilization[task] for task in tasks) <= U_max, name = f\"capacity_{module}\")\n",
    "\n",
    "\n",
    "## Constraint 3: TODO (Optional) -> Balanced Partitions\n",
    "for module in modules:\n",
    "    m.addConstr( sum( x[task,module] for task in tasks) == len(tasks)/2 )"
   ]
  },
  {
   "cell_type": "code",
   "execution_count": 7,
   "metadata": {},
   "outputs": [],
   "source": [
    "cost = m.addVar(vtype = GRB.CONTINUOUS, name = 'cost')\n",
    "\n",
    "# Add Variable z to simulate multiplication of two variables while keeping the problem linear\n",
    "# x * Y -> z\n",
    "# z <= x\n",
    "# z <= y\n",
    "# z >= x + y - 1\n",
    "i = 1\n",
    "z = dict()\n",
    "\n",
    "\n",
    "for task_i in tasks:\n",
    "    for task_j in tasks:\n",
    "        if task_i == task_j:\n",
    "            continue\n",
    "        for module_k in modules:\n",
    "            for module_l in modules:\n",
    "                if module_k == module_l:\n",
    "                    # Interference Cost:\n",
    "                    temp_cost = task_interference[ task_index[task_i] ][ task_index[task_j] ]\n",
    "                else:\n",
    "                    # Communication Cost\n",
    "                    temp_cost = task_communication[ task_index[task_i] ][ task_index[task_j] ]\n",
    "                \n",
    "                # Create z variable\n",
    "                z[f\"z{i}\"] = m.addVar(vtype=GRB.BINARY, name=f'z{i}')\n",
    "                # Add z constraints\n",
    "                m.addConstr( z[f\"z{i}\"] <= x[task_i,module_k] )\n",
    "                m.addConstr( z[f\"z{i}\"] <= x[task_j,module_l] )\n",
    "                m.addConstr( z[f\"z{i}\"] >= x[task_i,module_k] + x[task_j,module_l] - 1 )\n",
    "                \n",
    "                cost += z[f\"z{i}\"] * temp_cost\n",
    "                i += 1\n",
    "        \n",
    "        \n",
    "\n",
    "m.setObjective(cost, GRB.MINIMIZE)"
   ]
  },
  {
   "cell_type": "code",
   "execution_count": 8,
   "metadata": {},
   "outputs": [
    {
     "name": "stdout",
     "output_type": "stream",
     "text": [
      "Set parameter Presolve to value 0\n",
      "Gurobi Optimizer version 12.0.0 build v12.0.0rc1 (win64 - Windows 11.0 (22631.2))\n",
      "\n",
      "CPU model: 11th Gen Intel(R) Core(TM) i7-11370H @ 3.30GHz, instruction set [SSE2|AVX|AVX2|AVX512]\n",
      "Thread count: 4 physical cores, 8 logical processors, using up to 8 threads\n",
      "\n",
      "Non-default parameters:\n",
      "Presolve  0\n",
      "\n",
      "Optimize a model with 1094 rows, 381 columns and 2580 nonzeros\n",
      "Model fingerprint: 0x7ce4bffe\n",
      "Variable types: 1 continuous, 380 integer (380 binary)\n",
      "Coefficient statistics:\n",
      "  Matrix range     [1e-02, 1e+00]\n",
      "  Objective range  [1e+00, 1e+05]\n",
      "  Bounds range     [1e+00, 1e+00]\n",
      "  RHS range        [1e+00, 5e+00]\n",
      "Found heuristic solution: objective 100047.00000\n",
      "Variable types: 1 continuous, 380 integer (380 binary)\n",
      "\n",
      "Root relaxation: objective 0.000000e+00, 102 iterations, 0.00 seconds (0.00 work units)\n",
      "\n",
      "    Nodes    |    Current Node    |     Objective Bounds      |     Work\n",
      " Expl Unexpl |  Obj  Depth IntInf | Incumbent    BestBd   Gap | It/Node Time\n",
      "\n",
      "     0     0    0.00000    0   20 100047.000    0.00000   100%     -    0s\n",
      "H    0     0                      24.0000000    0.00000   100%     -    0s\n",
      "H    0     0                      19.0000000    0.00000   100%     -    0s\n",
      "H    0     0                      15.0000000    0.00000   100%     -    0s\n",
      "\n",
      "Cutting planes:\n",
      "  Gomory: 1\n",
      "  Implied bound: 163\n",
      "  MIR: 98\n",
      "  Zero half: 16\n",
      "  RLT: 195\n",
      "  BQP: 582\n",
      "\n",
      "Explored 1 nodes (280 simplex iterations) in 0.12 seconds (0.03 work units)\n",
      "Thread count was 8 (of 8 available processors)\n",
      "\n",
      "Solution count 4: 15 19 24 100047 \n",
      "\n",
      "Optimal solution found (tolerance 1.00e-04)\n",
      "Best objective 1.500000000000e+01, best bound 1.500000000000e+01, gap 0.0000%\n"
     ]
    }
   ],
   "source": [
    "# Disable presolve\n",
    "m.setParam(\"Presolve\", 0)\n",
    "\n",
    "# Optimize the model\n",
    "m.optimize()"
   ]
  },
  {
   "cell_type": "code",
   "execution_count": 9,
   "metadata": {},
   "outputs": [
    {
     "name": "stdout",
     "output_type": "stream",
     "text": [
      "Total Cost: 15.0\n",
      "\n",
      "A: Assigned to Frame -> m2\n",
      "B: Assigned to Frame -> m2\n",
      "C: Assigned to Frame -> m1\n",
      "D: Assigned to Frame -> m1\n",
      "E: Assigned to Frame -> m1\n",
      "F: Assigned to Frame -> m1\n",
      "G: Assigned to Frame -> m2\n",
      "H: Assigned to Frame -> m1\n",
      "I: Assigned to Frame -> m2\n",
      "J: Assigned to Frame -> m2\n"
     ]
    }
   ],
   "source": [
    "# Output the results\n",
    "if m.status == GRB.OPTIMAL:\n",
    "    # print(\"Optimal solution found!\")\n",
    "    print(f\"Total Cost: {m.objVal}\\n\")\n",
    "    for task in tasks:\n",
    "        for module in modules:\n",
    "            if x[task,module].X:\n",
    "                print(f\"{task[0]}: Assigned to Frame -> {module}\")   \n",
    "else:\n",
    "    print(\"No optimal solution found.\")"
   ]
  },
  {
   "cell_type": "code",
   "execution_count": 10,
   "metadata": {},
   "outputs": [
    {
     "name": "stdout",
     "output_type": "stream",
     "text": [
      "Communication: 2 -> task_i: A, task_j: D\n",
      "Communication: 7 -> task_i: A, task_j: H\n",
      "Communication: 1 -> task_i: B, task_j: C\n",
      "Interference : 1 -> task_i: D, task_j: F\n",
      "Communication: 2 -> task_i: F, task_j: G\n",
      "Communication: 2 -> task_i: H, task_j: I\n",
      "Total Cost: 15.0\n"
     ]
    }
   ],
   "source": [
    "print_cost = 0\n",
    "for task_i in tasks:\n",
    "    for task_j in tasks:\n",
    "        if task_i == task_j:\n",
    "            continue\n",
    "        for module_k in modules:\n",
    "            for module_l in modules:\n",
    "                if module_k == module_l:\n",
    "                    temp_cost = task_interference[ task_index[task_i]][ task_index[task_j] ]\n",
    "                else:\n",
    "                    temp_cost = task_communication[ task_index[task_i] ][ task_index[task_j] ]\n",
    "                    \n",
    "                if(x[task_i,module_k].X * x[task_j,module_l].X > 0):\n",
    "                    if(temp_cost > 0):\n",
    "                        if(module_k == module_l):\n",
    "                            print(\"Interference :\",temp_cost, f\"-> task_i: {task_i}, task_j: {task_j}\")\n",
    "                        else:\n",
    "                            print(\"Communication:\",temp_cost, f\"-> task_i: {task_i}, task_j: {task_j}\")\n",
    "                print_cost += x[task_i,module_k].X * x[task_j,module_l].X * temp_cost\n",
    "\n",
    "print(f\"Total Cost: {print_cost}\")"
   ]
  }
 ],
 "metadata": {
  "kernelspec": {
   "display_name": "Python 3",
   "language": "python",
   "name": "python3"
  },
  "language_info": {
   "codemirror_mode": {
    "name": "ipython",
    "version": 3
   },
   "file_extension": ".py",
   "mimetype": "text/x-python",
   "name": "python",
   "nbconvert_exporter": "python",
   "pygments_lexer": "ipython3",
   "version": "3.12.8"
  }
 },
 "nbformat": 4,
 "nbformat_minor": 2
}
