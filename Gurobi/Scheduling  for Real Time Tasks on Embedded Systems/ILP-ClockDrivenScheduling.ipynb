{
 "cells": [
  {
   "cell_type": "code",
   "execution_count": 2,
   "metadata": {},
   "outputs": [],
   "source": [
    "import gurobipy as gp\n",
    "from gurobipy import Model, GRB"
   ]
  },
  {
   "cell_type": "markdown",
   "metadata": {},
   "source": [
    "# Given Tasks:\n",
    "# T1 = (6, 2)  # Task period = 6, execution time = 2\n",
    "# T2 = (12, 3) # Task period = 12, execution time = 3\n",
    "# T3 = (18, 4) # Task period = 18, execution time = 4"
   ]
  },
  {
   "cell_type": "code",
   "execution_count": null,
   "metadata": {},
   "outputs": [
    {
     "name": "stdout",
     "output_type": "stream",
     "text": [
      "Set parameter Username\n",
      "Set parameter LicenseID to value 2606738\n",
      "Academic license - for non-commercial use only - expires 2026-01-06\n",
      "Set parameter Presolve to value 0\n",
      "Gurobi Optimizer version 12.0.0 build v12.0.0rc1 (win64 - Windows 11.0 (22631.2))\n",
      "\n",
      "CPU model: 11th Gen Intel(R) Core(TM) i7-11370H @ 3.30GHz, instruction set [SSE2|AVX|AVX2|AVX512]\n",
      "Thread count: 4 physical cores, 8 logical processors, using up to 8 threads\n",
      "\n",
      "Non-default parameters:\n",
      "Presolve  0\n",
      "\n",
      "Optimize a model with 166 rows, 83 columns and 454 nonzeros\n",
      "Model fingerprint: 0x69836673\n",
      "Variable types: 11 continuous, 72 integer (72 binary)\n",
      "Coefficient statistics:\n",
      "  Matrix range     [1e+00, 4e+01]\n",
      "  Objective range  [0e+00, 0e+00]\n",
      "  Bounds range     [1e+00, 1e+00]\n",
      "  RHS range        [2e+00, 4e+01]\n",
      "Found heuristic solution: objective 0.0000000\n",
      "\n",
      "Explored 0 nodes (0 simplex iterations) in 0.01 seconds (0.00 work units)\n",
      "Thread count was 1 (of 8 available processors)\n",
      "\n",
      "Solution count 1: 0 \n",
      "\n",
      "Optimal solution found (tolerance 1.00e-04)\n",
      "Best objective 0.000000000000e+00, best bound 0.000000000000e+00, gap 0.0000%\n"
     ]
    }
   ],
   "source": [
    "# Hyperperiod\n",
    "hyperperiod = 36\n",
    "\n",
    "# Set of jobs, e.g., J12 is the second job of the first task.\n",
    "jobs = [\"J11\", \"J12\", \"J13\", \"J14\", \"J15\", \"J16\", \n",
    "        \"J21\", \"J22\", \"J23\", \n",
    "        \"J31\", \"J32\"]\n",
    "\n",
    "# Release times for jobs\n",
    "releasetimes = {\n",
    "    \"J11\": 0, \"J12\": 6, \"J13\": 12, \"J14\": 18, \"J15\": 24, \"J16\": 30,\n",
    "    \"J21\": 0, \"J22\": 12, \"J23\": 24,\n",
    "    \"J31\": 0, \"J32\": 18\n",
    "}\n",
    "\n",
    "# Deadlines for jobs\n",
    "deadlines = {\n",
    "    \"J11\": 6, \"J12\": 12, \"J13\": 18, \"J14\": 24, \"J15\": 30, \"J16\": 36,\n",
    "    \"J21\": 12, \"J22\": 24, \"J23\": 36,\n",
    "    \"J31\": 18, \"J32\": 36\n",
    "}\n",
    "\n",
    "# Execution times for jobs\n",
    "executiontimes = {\n",
    "    \"J11\": 2, \"J12\": 2, \"J13\": 2, \"J14\": 2, \"J15\": 2, \"J16\": 2,\n",
    "    \"J21\": 3, \"J22\": 3, \"J23\": 3,\n",
    "    \"J31\": 4, \"J32\": 4\n",
    "}\n",
    "\n",
    "# Create Gurobi model\n",
    "m = Model()\n",
    "\n",
    "# Variables for job start times\n",
    "x = m.addVars(jobs, name=\"x\")\n",
    "\n",
    "# Constraint: Start time of each job must be after its release time\n",
    "for job in jobs:\n",
    "    m.addConstr(x[job] >= releasetimes[job], name=f\"release_time_{job}\")\n",
    "\n",
    "# Constraint: End of job must be before its deadline\n",
    "for job in jobs:\n",
    "    m.addConstr(x[job] + executiontimes[job] <= deadlines[job], name=f\"deadline_{job}\")\n",
    "\n",
    "\n",
    "# Add constraints to ensure no two jobs from different tasks overlap\n",
    "# A large constant (Big-M), must be greater than the hyperperiod\n",
    "M = hyperperiod + 1\n",
    "for job1 in jobs:\n",
    "    for job2 in jobs:\n",
    "        if job1 != job2 and job1[1] != job2[1]:  # Ensure jobs are from different tasks\n",
    "            # Create a binary variable to decide the order of jobs\n",
    "            h = m.addVar(vtype=GRB.BINARY, name=f\"h_{job1}_{job2}\")\n",
    "            \n",
    "            # Enforce non-overlap using Big-M constraints\n",
    "            m.addConstr(x[job1] + executiontimes[job1] <= x[job2] + M * (1 - h), \n",
    "                        name=f\"job1_before_job2_{job1}_{job2}\")\n",
    "            m.addConstr(x[job2] + executiontimes[job2] <= x[job1] + M * h, \n",
    "                        name=f\"job2_before_job1_{job1}_{job2}\")\n",
    "\n",
    "\n",
    "# Disable presolve\n",
    "m.setParam(\"Presolve\", 0)\n",
    "\n",
    "# Optimize the model\n",
    "m.optimize()"
   ]
  },
  {
   "cell_type": "code",
   "execution_count": 4,
   "metadata": {},
   "outputs": [
    {
     "name": "stdout",
     "output_type": "stream",
     "text": [
      "Optimal solution found!\n",
      "Start time for job J11: 3.0\n",
      "Start time for job J12: 9.0\n",
      "Start time for job J13: 15.0\n",
      "Start time for job J14: 18.0\n",
      "Start time for job J15: 27.0\n",
      "Start time for job J16: 30.0\n",
      "Start time for job J21: 0.0\n",
      "Start time for job J22: 12.0\n",
      "Start time for job J23: 24.0\n",
      "Start time for job J31: 5.0\n",
      "Start time for job J32: 20.0\n"
     ]
    }
   ],
   "source": [
    "# Output the results\n",
    "if m.status == GRB.OPTIMAL:\n",
    "    print(\"Optimal solution found!\")\n",
    "    for job in jobs:\n",
    "        print(f\"Start time for job {job}: {x[job].X}\")\n",
    "else:\n",
    "    print(\"No optimal solution found.\")"
   ]
  }
 ],
 "metadata": {
  "kernelspec": {
   "display_name": "Python 3",
   "language": "python",
   "name": "python3"
  },
  "language_info": {
   "codemirror_mode": {
    "name": "ipython",
    "version": 3
   },
   "file_extension": ".py",
   "mimetype": "text/x-python",
   "name": "python",
   "nbconvert_exporter": "python",
   "pygments_lexer": "ipython3",
   "version": "3.12.8"
  }
 },
 "nbformat": 4,
 "nbformat_minor": 2
}
