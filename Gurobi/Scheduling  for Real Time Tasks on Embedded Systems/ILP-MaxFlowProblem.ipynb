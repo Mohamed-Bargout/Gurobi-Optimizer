{
 "cells": [
  {
   "cell_type": "code",
   "execution_count": 1,
   "metadata": {},
   "outputs": [],
   "source": [
    "import gurobipy as gp\n",
    "from gurobipy import Model, GRB"
   ]
  },
  {
   "cell_type": "markdown",
   "metadata": {},
   "source": [
    "### Given:\n",
    "## Periodic tasks with (peirod = deadline , execution time) or (period, execution time, deadline)\n",
    "# T1 = (4, 1)\n",
    "# T2 = (5, 2, 7)\n",
    "# T3 = (20, 5)\n",
    "\n",
    "# Hyperperiod = 20\n",
    "# Frame Size = 4"
   ]
  },
  {
   "cell_type": "code",
   "execution_count": 2,
   "metadata": {},
   "outputs": [],
   "source": [
    "hyperperiod = 20\n",
    "frameSize = 4 \n",
    "\n",
    "tasks = ['J1','J2','J3']\n",
    "period = {'J1': 4,  # Task 1\n",
    "          'J2': 5,  # Task 2\n",
    "          'J3': 20, # Task 3\n",
    "          }\n",
    "execution_time = {\"J1\": 1, # Task 1\n",
    "                  \"J2\": 2, # Task 2\n",
    "                  \"J3\": 5, # Task 3\n",
    "                  }\n",
    "deadline = {'J1': 4,  # Task 1\n",
    "            'J2': 7,  # Task 2\n",
    "            'J3': 20, # Task 3\n",
    "          }"
   ]
  },
  {
   "cell_type": "code",
   "execution_count": 3,
   "metadata": {},
   "outputs": [],
   "source": [
    "# For each task, define the jobs that would run in the hyperperiod\n",
    "jobs = []\n",
    "for task in tasks:\n",
    "    for i in range(1 , int(hyperperiod/period[task]) + 1):\n",
    "        jobs.append(task+str(i))\n",
    "\n",
    "# Define the frames that will run in one hyperperiod\n",
    "frames = []\n",
    "for i in range(1, int(hyperperiod/frameSize) + 1 ):\n",
    "    frames.append(\"F\" + str(i))\n",
    "\n",
    "# define the release time of each job\n",
    "releaseTimes = dict()\n",
    "for job in jobs:\n",
    "    releaseTimes[job] = period[job[0:2]]*(int(job[2]) - 1)\n",
    "\n",
    "# define the deadline of each job\n",
    "deadlines = dict()\n",
    "for job in jobs:\n",
    "    deadlines[job] = period[job[0:2]]*(int(job[2]) - 1) + deadline[job[0:2]]\n",
    "\n",
    "# For each job, define the eligible frames\n",
    "eligibleFrames = dict()\n",
    "for job in jobs: \n",
    "    for i, frame in enumerate(frames):\n",
    "        flag = True\n",
    "        # Check that the job releases before or at the start of the frame\n",
    "        if( releaseTimes[job]> frameSize * i):\n",
    "            # print(period[job[0:2]]*(int(job[2]) - 1) , frameSize * i)\n",
    "            flag = False\n",
    "\n",
    "        # Check that the job ends after or equal the end of the frame\n",
    "        if( deadlines[job] < frameSize * (i + 1)):\n",
    "            flag = False\n",
    "        eligibleFrames[(job,frame)] = flag\n",
    "\n",
    "\n",
    "eligibleFrames_list = dict()\n",
    "for job in jobs:\n",
    "    eligibleFrames_list[job] = []\n",
    "    for frame in frames:\n",
    "        if eligibleFrames[(job,frame)]:\n",
    "            eligibleFrames_list[job].append(frame)\n",
    "\n",
    "eligibleJobs_list = dict()\n",
    "for frame in frames:\n",
    "    eligibleJobs_list[frame] = []\n",
    "    for job in jobs:\n",
    "        if eligibleFrames[(job,frame)]:\n",
    "            eligibleJobs_list[frame].append(job)"
   ]
  },
  {
   "cell_type": "code",
   "execution_count": 4,
   "metadata": {},
   "outputs": [
    {
     "name": "stdout",
     "output_type": "stream",
     "text": [
      "Set parameter Username\n",
      "Set parameter LicenseID to value 2606738\n",
      "Academic license - for non-commercial use only - expires 2026-01-06\n",
      "Set parameter Presolve to value 0\n"
     ]
    }
   ],
   "source": [
    "# Create Gurobi model\n",
    "m = Model()\n",
    "\n",
    "# Disable presolve\n",
    "m.setParam(\"Presolve\", 0)"
   ]
  },
  {
   "cell_type": "code",
   "execution_count": 5,
   "metadata": {},
   "outputs": [],
   "source": [
    "###--- Variables ---###\n",
    "# A Variable for each source to job edge\n",
    "xSrcJ = m.addVars(jobs, vtype=GRB.CONTINUOUS, name=f\"xSrcJ\")\n",
    "\n",
    "## For Each Job-To-Frame, define a variable:\n",
    "xJF = dict()\n",
    "for job in jobs:\n",
    "    for frame in frames:\n",
    "        if eligibleFrames[(job,frame)]:\n",
    "            xJF[ (job,frame) ] = m.addVar(vtype=GRB.CONTINUOUS, name = f\"x{job}{frame}\")\n",
    "\n",
    "## FOr each Frame-To-Sink, define a variable:\n",
    "xFSink = m.addVars(frames, vtype=GRB.CONTINUOUS, name=\"xFSink\")"
   ]
  },
  {
   "cell_type": "code",
   "execution_count": 6,
   "metadata": {},
   "outputs": [],
   "source": [
    "###--- Constraints ---###\n",
    "\n",
    "# Flow conservation for each job node:\n",
    "for job in jobs:\n",
    "    ## Both methods work:\n",
    "    # m.addConstr(xSrcJ[job] == sum(xJF[(job, frame)] for frame in frames if eligibleFrames[(job, frame)]), name=f'cNode_{job}')\n",
    "    m.addConstr(xSrcJ[job] == sum(xJF[(job, frame)] for frame in eligibleFrames_list[job]), name=f'cNode_{job}')\n",
    "    \n",
    "\n",
    "# Flow conservation for each frame node:\n",
    "for frame in frames:\n",
    "    # m.addConstr( sum( xJF[ (job,frame) ] for job in jobs if eligibleFrames[(job, frame)]) == xFSink[frame], name = f'cNode_{frame}' )\n",
    "    m.addConstr( sum( xJF[ (job,frame) ] for job in eligibleJobs_list[frame]) == xFSink[frame], name = f'cNode_{frame}' )\n",
    "\n",
    "# for each Source to Job flow, maximum flow must be less than or equal to job execution time: \n",
    "for job in jobs:\n",
    "    m.addConstr( xSrcJ[job] <= execution_time[job[0:2]] )\n",
    "\n",
    "# for each Frame to Sink flow, maximum flow must be less than or equal to frame size:\n",
    "for frame in frames:\n",
    "    m.addConstr( xFSink[frame] <= frameSize)\n",
    "\n",
    "# All flows must be positive:\n",
    "for job in jobs:\n",
    "    m.addConstr(xSrcJ[job] >= 0) # Flow from source to job >= 0\n",
    "    for frame in frames:\n",
    "        if eligibleFrames[(job,frame)]:\n",
    "            m.addConstr(xJF[(job,frame)] >= 0) # Flow from job to eligible Frame >= 0\n",
    "\n",
    "for frame in frames:\n",
    "        m.addConstr(xFSink[frame] >= 0) # Flow from Frame to Sink >= 0"
   ]
  },
  {
   "cell_type": "code",
   "execution_count": 7,
   "metadata": {},
   "outputs": [],
   "source": [
    "###--- Objective ---###\n",
    "# Maximize flow from frames to sink:\n",
    "\n",
    "totalFlow = m.addVar(vtype=GRB.CONTINUOUS, name='TotalFlow')\n",
    "m.addConstr( sum(xFSink[frame] for frame in frames) == totalFlow)\n",
    "\n",
    "m.setObjective(totalFlow,GRB.MAXIMIZE)"
   ]
  },
  {
   "cell_type": "code",
   "execution_count": 8,
   "metadata": {},
   "outputs": [
    {
     "name": "stdout",
     "output_type": "stream",
     "text": [
      "Gurobi Optimizer version 12.0.0 build v12.0.0rc1 (win64 - Windows 11.0 (22631.2))\n",
      "\n",
      "CPU model: 11th Gen Intel(R) Core(TM) i7-11370H @ 3.30GHz, instruction set [SSE2|AVX|AVX2|AVX512]\n",
      "Thread count: 4 physical cores, 8 logical processors, using up to 8 threads\n",
      "\n",
      "Non-default parameters:\n",
      "Presolve  0\n",
      "\n",
      "Optimize a model with 60 rows, 30 columns and 93 nonzeros\n",
      "Model fingerprint: 0xf4d49e8b\n",
      "Coefficient statistics:\n",
      "  Matrix range     [1e+00, 1e+00]\n",
      "  Objective range  [1e+00, 1e+00]\n",
      "  Bounds range     [0e+00, 0e+00]\n",
      "  RHS range        [1e+00, 5e+00]\n",
      "\n",
      "Iteration    Objective       Primal Inf.    Dual Inf.      Time\n",
      "       0    1.0000000e+30   2.000000e+30   1.000000e+00      0s\n",
      "      16    1.8000000e+01   0.000000e+00   0.000000e+00      0s\n",
      "\n",
      "Solved in 16 iterations and 0.02 seconds (0.00 work units)\n",
      "Optimal objective  1.800000000e+01\n"
     ]
    }
   ],
   "source": [
    "# Optimize the model\n",
    "m.optimize()"
   ]
  },
  {
   "cell_type": "code",
   "execution_count": 9,
   "metadata": {},
   "outputs": [
    {
     "name": "stdout",
     "output_type": "stream",
     "text": [
      "Optimal solution found!\n",
      "Flow From Source to Job:\n",
      "S -> J11: 1.0 - Flow - Execution time: 0.0\n",
      "S -> J12: 1.0 - Flow - Execution time: 0.0\n",
      "S -> J13: 1.0 - Flow - Execution time: 0.0\n",
      "S -> J14: 1.0 - Flow - Execution time: 0.0\n",
      "S -> J15: 1.0 - Flow - Execution time: 0.0\n",
      "S -> J21: 2.0 - Flow - Execution time: 0.0\n",
      "S -> J22: 2.0 - Flow - Execution time: 0.0\n",
      "S -> J23: 2.0 - Flow - Execution time: 0.0\n",
      "S -> J24: 2.0 - Flow - Execution time: 0.0\n",
      "S -> J31: 5.0 - Flow - Execution time: 0.0\n"
     ]
    }
   ],
   "source": [
    "# Output the results\n",
    "if m.status == GRB.OPTIMAL:\n",
    "    print(\"Optimal solution found!\")\n",
    "    print(\"Flow From Source to Job:\") \n",
    "    for job in jobs:\n",
    "        print(f\"S -> {job}: {xSrcJ[job].X}\", end=\" - \")\n",
    "        # If all jobs's flow is equal to their execution time, then all jobs have been able to complete and the schedule is feasible\n",
    "        unexecutedTime = xSrcJ[job].X - execution_time[job[0:2]]\n",
    "        print(f\"Flow - Execution time: {unexecutedTime}\")\n",
    "        if unexecutedTime > 0:\n",
    "            print(\"Infeasible\")\n",
    "else:\n",
    "    print(\"No optimal solution found.\")"
   ]
  },
  {
   "cell_type": "code",
   "execution_count": 10,
   "metadata": {},
   "outputs": [
    {
     "name": "stdout",
     "output_type": "stream",
     "text": [
      "The Assignment of jobs in frames:\n",
      "J11 -> F1: 1.0\n",
      "J12 -> F2: 1.0\n",
      "J13 -> F3: 1.0\n",
      "J14 -> F4: 1.0\n",
      "J15 -> F5: 1.0\n",
      "J21 -> F1: 2.0\n",
      "J22 -> F3: 2.0\n",
      "J23 -> F4: 2.0\n",
      "J24 -> F5: 2.0\n",
      "J31 -> F1: 0.0\n",
      "J31 -> F2: 2.0\n",
      "J31 -> F3: 1.0\n",
      "J31 -> F4: 1.0\n",
      "J31 -> F5: 1.0\n"
     ]
    }
   ],
   "source": [
    "# Output the results\n",
    "print(\"The Assignment of jobs in frames:\")\n",
    "if m.status == GRB.OPTIMAL:\n",
    "    for job in jobs:\n",
    "        for frame in eligibleFrames_list[job]:\n",
    "            print(f\"{job} -> {frame}: {xJF[(job,frame)].X}\")\n",
    "else:\n",
    "    print(\"No optimal solution found.\")"
   ]
  },
  {
   "cell_type": "code",
   "execution_count": 11,
   "metadata": {},
   "outputs": [
    {
     "name": "stdout",
     "output_type": "stream",
     "text": [
      "Flow From Frame to Sink\n",
      "F1 -> Sink: 3.0\n",
      "F2 -> Sink: 3.0\n",
      "F3 -> Sink: 4.0\n",
      "F4 -> Sink: 4.0\n",
      "F5 -> Sink: 4.0\n"
     ]
    }
   ],
   "source": [
    "# Output the results\n",
    "print(\"Flow From Frame to Sink\")\n",
    "if m.status == GRB.OPTIMAL:\n",
    "    for frame in frames:\n",
    "        print(f\"{frame} -> Sink: {xFSink[(frame)].X}\")\n",
    "else:\n",
    "    print(\"No optimal solution found.\")"
   ]
  }
 ],
 "metadata": {
  "kernelspec": {
   "display_name": "Python 3",
   "language": "python",
   "name": "python3"
  },
  "language_info": {
   "codemirror_mode": {
    "name": "ipython",
    "version": 3
   },
   "file_extension": ".py",
   "mimetype": "text/x-python",
   "name": "python",
   "nbconvert_exporter": "python",
   "pygments_lexer": "ipython3",
   "version": "3.12.8"
  }
 },
 "nbformat": 4,
 "nbformat_minor": 2
}
