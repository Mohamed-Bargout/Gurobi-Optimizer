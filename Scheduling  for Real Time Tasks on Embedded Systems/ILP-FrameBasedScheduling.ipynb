{
 "cells": [
  {
   "cell_type": "code",
   "execution_count": 18,
   "metadata": {},
   "outputs": [],
   "source": [
    "import gurobipy as gp\n",
    "from gurobipy import Model, GRB"
   ]
  },
  {
   "cell_type": "markdown",
   "metadata": {},
   "source": [
    "## Given ##\n",
    "# Period Tasks: (period/deadline, execution time)\n",
    "# T1 = (20,5)\n",
    "# T2 = (25,9)\n",
    "# T3 = (100,5)\n",
    "# T4 = (100,10)\n",
    "\n",
    "# Hyperperiod = 100\n",
    "\n",
    "#* Frame Size = 10"
   ]
  },
  {
   "cell_type": "code",
   "execution_count": 20,
   "metadata": {},
   "outputs": [],
   "source": [
    "# Given:\n",
    "hyperperiod = 100\n",
    "frameSize = 10\n",
    "\n",
    "tasks = ['J1','J2','J3',\"J4\"]\n",
    "period = {'J1': 20,  # Task 1\n",
    "          'J2': 25,  # Task 2\n",
    "          'J3': 100, # Task 3\n",
    "          'J4': 100  # Task 4\n",
    "          }\n",
    "execution_time = {\"J1\": 5, # Task 1\n",
    "                  \"J2\": 9, # Task 2\n",
    "                  \"J3\": 5, # Task 3\n",
    "                  \"J4\": 10 # Task 4\n",
    "                  }"
   ]
  },
  {
   "cell_type": "markdown",
   "metadata": {},
   "source": [
    "## Given ##\n",
    "# Period Tasks: (period/deadline, execution time)\n",
    "# T1 = (30,10)\n",
    "# T2 = (60,15)\n",
    "# T3 = (90,20)\n",
    "\n",
    "# Hyperperiod = 180\n",
    "\n",
    "# Frame Size = 30"
   ]
  },
  {
   "cell_type": "code",
   "execution_count": 21,
   "metadata": {},
   "outputs": [],
   "source": [
    "# # Given:\n",
    "# hyperperiod = 180\n",
    "# frameSize = 30\n",
    "\n",
    "# tasks = ['J1','J2','J3']\n",
    "# period = {'J1': 30,  # Task 1\n",
    "#           'J2': 60,  # Task 2\n",
    "#           'J3': 90, # Task 3\n",
    "#           }\n",
    "# execution_time = {\"J1\": 10, # Task 1\n",
    "#                   \"J2\": 15, # Task 2\n",
    "#                   \"J3\": 20, # Task 3\n",
    "#                   }"
   ]
  },
  {
   "cell_type": "code",
   "execution_count": 22,
   "metadata": {},
   "outputs": [],
   "source": [
    "### Frame Based Scheduling ###\n",
    "\n",
    "## List of jobs:\n",
    "jobs = []\n",
    "for task in tasks:\n",
    "    for i in range(1, int(hyperperiod/period[task])+ 1):\n",
    "        jobs.append( f\"{task}{i}\" )\n",
    "\n",
    "## List of Frames:\n",
    "frames = []\n",
    "for i in range(1, int(hyperperiod/frameSize) + 1):\n",
    "    frames.append(f\"F{i}\")\n",
    "\n",
    "\n",
    "### Frame Start Times:\n",
    "frameStartTimes = dict()\n",
    "for i in range( int(hyperperiod/frameSize) ):\n",
    "    frameStartTimes[frames[i]] = int(i * frameSize)\n",
    "\n",
    "#### Release, Deadlines, Execution times\n",
    "\n",
    "releaseTimes = dict()\n",
    "for task in tasks:\n",
    "    for i in range(1, int(hyperperiod/period[task]) + 1):\n",
    "        releaseTimes[ task+str(i) ] = (i - 1) * period[task]\n",
    "\n",
    "### Deadlines of all jobs:\n",
    "\n",
    "deadlines = dict()\n",
    "for task in tasks:\n",
    "    for i in range(1, int(hyperperiod/period[task]) + 1):\n",
    "        deadlines[ task+str(i) ] = i * period[task]\n",
    "\n",
    "### Execution Times of all jobs:\n",
    "\n",
    "execution_times = dict()\n",
    "for job in jobs:\n",
    "    execution_times[job] = execution_time[job[0:2]]\n",
    "\n",
    "#### Set of Eligible Frames for each job:\n",
    "# Frame start must be >= job release time\n",
    "# Frame end must be <= job deadline\n",
    "eligibleFrames = dict()\n",
    "\n",
    "for job in jobs:\n",
    "    for frame,frameStartTime in frameStartTimes.items():\n",
    "        eligibleFrames[ (job,frame) ] = 1 if (releaseTimes[job] <= frameStartTime) and (deadlines[job] >= frameStartTime + frameSize) else -1"
   ]
  },
  {
   "cell_type": "code",
   "execution_count": 23,
   "metadata": {},
   "outputs": [],
   "source": [
    "# Create Gurobi model\n",
    "m = Model()"
   ]
  },
  {
   "cell_type": "code",
   "execution_count": 24,
   "metadata": {},
   "outputs": [],
   "source": [
    "# Binary Variables for Frame Assignment:\n",
    "x = m.addVars(jobs, frames, vtype=GRB.BINARY, name=\"x\")"
   ]
  },
  {
   "cell_type": "code",
   "execution_count": 25,
   "metadata": {},
   "outputs": [],
   "source": [
    "# Constraint: assign exactly one frame to each job\n",
    "for job in jobs:\n",
    "    m.addConstr(sum(x[job, frame] for frame in frames) == 1, name=f\"assign_{job}\")\n",
    "\n",
    "# Constraint: only assign jobs to eligible Frames:\n",
    "for job in jobs:\n",
    "    for frame in frames:\n",
    "        m.addConstr( x[job,frame] * eligibleFrames[(job,frame)] >= 0)\n",
    "\n",
    "# Constraint: do not exceed the capacity of the Frame:\n",
    "for frame in frames:\n",
    "    m.addConstr( sum(x[job,frame]*execution_times[job] for job in jobs) <= frameSize )"
   ]
  },
  {
   "cell_type": "code",
   "execution_count": 26,
   "metadata": {},
   "outputs": [],
   "source": [
    "# Add Objective: Maximize the least slack time:\n",
    "leastSlackTme = m.addVar(vtype = GRB.INTEGER, name = 'leastSlackTme')\n",
    "\n",
    "for frame in frames:\n",
    "    m.addConstr( frameSize - sum( x[job,frame]*execution_times[job] for job in jobs) >= leastSlackTme)\n",
    "\n",
    "m.setObjective(leastSlackTme, GRB.MAXIMIZE)"
   ]
  },
  {
   "cell_type": "code",
   "execution_count": 27,
   "metadata": {},
   "outputs": [
    {
     "name": "stdout",
     "output_type": "stream",
     "text": [
      "Set parameter Presolve to value 0\n",
      "Gurobi Optimizer version 12.0.0 build v12.0.0rc1 (win64 - Windows 11.0 (22631.2))\n",
      "\n",
      "CPU model: 11th Gen Intel(R) Core(TM) i7-11370H @ 3.30GHz, instruction set [SSE2|AVX|AVX2|AVX512]\n",
      "Thread count: 4 physical cores, 8 logical processors, using up to 8 threads\n",
      "\n",
      "Non-default parameters:\n",
      "Presolve  0\n",
      "\n",
      "Optimize a model with 89 rows, 67 columns and 270 nonzeros\n",
      "Model fingerprint: 0xca7b7d24\n",
      "Variable types: 0 continuous, 67 integer (66 binary)\n",
      "Coefficient statistics:\n",
      "  Matrix range     [1e+00, 2e+01]\n",
      "  Objective range  [1e+00, 1e+00]\n",
      "  Bounds range     [1e+00, 1e+00]\n",
      "  RHS range        [1e+00, 3e+01]\n",
      "Found heuristic solution: objective -0.0000000\n",
      "Variable types: 0 continuous, 67 integer (66 binary)\n",
      "\n",
      "Explored 0 nodes (0 simplex iterations) in 0.01 seconds (0.00 work units)\n",
      "Thread count was 8 (of 8 available processors)\n",
      "\n",
      "Solution count 1: -0 \n",
      "No other solutions better than -0\n",
      "\n",
      "Optimal solution found (tolerance 1.00e-04)\n",
      "Best objective -0.000000000000e+00, best bound -0.000000000000e+00, gap 0.0000%\n"
     ]
    }
   ],
   "source": [
    "# Disable presolve\n",
    "m.setParam(\"Presolve\", 0)\n",
    "\n",
    "# Optimize the model\n",
    "m.optimize()"
   ]
  },
  {
   "cell_type": "code",
   "execution_count": 28,
   "metadata": {},
   "outputs": [
    {
     "name": "stdout",
     "output_type": "stream",
     "text": [
      "Optimal solution found!\n",
      "J11: Assigned to Frame -> F1\n",
      "J12: Assigned to Frame -> F2\n",
      "J13: Assigned to Frame -> F3\n",
      "J14: Assigned to Frame -> F4\n",
      "J15: Assigned to Frame -> F5\n",
      "J16: Assigned to Frame -> F6\n",
      "J21: Assigned to Frame -> F2\n",
      "J22: Assigned to Frame -> F4\n",
      "J23: Assigned to Frame -> F5\n",
      "J31: Assigned to Frame -> F1\n",
      "J32: Assigned to Frame -> F6\n",
      "\n",
      "Slack Times:\n",
      "Frame F1: 0.0\n",
      "Frame F2: 5.0\n",
      "Frame F3: 20.0\n",
      "Frame F4: 5.0\n",
      "Frame F5: 5.0\n",
      "Frame F6: 0.0\n",
      "\n",
      "Least Slack Time = 0.0\n"
     ]
    }
   ],
   "source": [
    "# Output the results\n",
    "if m.status == GRB.OPTIMAL:\n",
    "    print(\"Optimal solution found!\")\n",
    "    for job in jobs:\n",
    "        for frame in frames:\n",
    "            if x[job,frame].X:\n",
    "                print(f\"{job}: Assigned to Frame -> {frame}\")   \n",
    "else:\n",
    "    print(\"No optimal solution found.\")\n",
    "\n",
    "print(\"\\nSlack Times:\")\n",
    "# Output slack time\n",
    "for frame in frames:\n",
    "    print(f\"Frame {frame}:\" , frameSize - sum(x[job,frame].X*execution_times[job] for job in jobs))\n",
    "\n",
    "print(\"\\nLeast Slack Time =\", leastSlackTme.X)"
   ]
  }
 ],
 "metadata": {
  "kernelspec": {
   "display_name": "Python 3",
   "language": "python",
   "name": "python3"
  },
  "language_info": {
   "codemirror_mode": {
    "name": "ipython",
    "version": 3
   },
   "file_extension": ".py",
   "mimetype": "text/x-python",
   "name": "python",
   "nbconvert_exporter": "python",
   "pygments_lexer": "ipython3",
   "version": "3.12.8"
  }
 },
 "nbformat": 4,
 "nbformat_minor": 2
}
