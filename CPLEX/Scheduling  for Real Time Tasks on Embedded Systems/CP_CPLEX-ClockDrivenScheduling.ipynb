{
 "cells": [
  {
   "cell_type": "code",
   "execution_count": null,
   "metadata": {},
   "outputs": [],
   "source": [
    "from docplex.cp.model import CpoModel"
   ]
  },
  {
   "cell_type": "code",
   "execution_count": null,
   "metadata": {},
   "outputs": [],
   "source": [
    "# Given Tasks\n",
    "tasks = {\n",
    "    \"T1\": {\"period\": 6, \"execution\": 2},\n",
    "    \"T2\": {\"period\": 12, \"execution\": 3},\n",
    "    \"T3\": {\"period\": 18, \"execution\": 4},\n",
    "}\n",
    "\n",
    "# Hyperperiod\n",
    "hyperperiod = 36\n",
    "\n",
    "# Set of jobs\n",
    "jobs = [\"J11\", \"J12\", \"J13\", \"J14\", \"J15\", \"J16\", \n",
    "        \"J21\", \"J22\", \"J23\", \n",
    "        \"J31\", \"J32\"]\n",
    "\n",
    "# Release times for jobs\n",
    "releasetimes = {\n",
    "    \"J11\": 0, \"J12\": 6, \"J13\": 12, \"J14\": 18, \"J15\": 24, \"J16\": 30,\n",
    "    \"J21\": 0, \"J22\": 12, \"J23\": 24,\n",
    "    \"J31\": 0, \"J32\": 18\n",
    "}\n",
    "\n",
    "# Deadlines for jobs\n",
    "deadlines = {\n",
    "    \"J11\": 6, \"J12\": 12, \"J13\": 18, \"J14\": 24, \"J15\": 30, \"J16\": 36,\n",
    "    \"J21\": 12, \"J22\": 24, \"J23\": 36,\n",
    "    \"J31\": 18, \"J32\": 36\n",
    "}\n",
    "\n",
    "# Execution times for jobs\n",
    "executiontimes = {\n",
    "    \"J11\": 2, \"J12\": 2, \"J13\": 2, \"J14\": 2, \"J15\": 2, \"J16\": 2,\n",
    "    \"J21\": 3, \"J22\": 3, \"J23\": 3,\n",
    "    \"J31\": 4, \"J32\": 4\n",
    "}\n"
   ]
  },
  {
   "cell_type": "code",
   "execution_count": null,
   "metadata": {},
   "outputs": [],
   "source": [
    "# Create a CPLEX constraint programming model\n",
    "model = CpoModel()\n",
    "\n",
    "# Define interval variables for each job\n",
    "job_intervals = {\n",
    "    job: model.interval_var(start=(releasetimes[job], deadlines[job] - executiontimes[job]),\n",
    "                            size=executiontimes[job], name=f\"interval_{job}\")\n",
    "    for job in jobs\n",
    "}\n",
    "\n",
    "# Add no-overlap constraint for jobs from different tasks\n",
    "model.add(model.no_overlap([job_intervals[job] for job in jobs]))\n",
    "\n",
    "# Solve the model\n",
    "solution = model.solve(log_output=True)\n"
   ]
  },
  {
   "cell_type": "code",
   "execution_count": null,
   "metadata": {},
   "outputs": [],
   "source": [
    "# Print the solution\n",
    "if solution:\n",
    "    print(\"Solution:\")\n",
    "    for job in jobs:\n",
    "        print(f\"Job {job} starts at: {solution.get_var_solution(job_intervals[job]).get_start()}\")\n",
    "else:\n",
    "    print(\"No solution found.\")"
   ]
  }
 ],
 "metadata": {
  "language_info": {
   "name": "python"
  }
 },
 "nbformat": 4,
 "nbformat_minor": 2
}
